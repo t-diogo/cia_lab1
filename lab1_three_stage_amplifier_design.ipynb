{
 "cells": [
  {
   "cell_type": "markdown",
   "metadata": {},
   "source": [
    "## Design of a 3-stage class AB amplifier"
   ]
  },
  {
   "cell_type": "markdown",
   "metadata": {},
   "source": [
    "![Circuit Schematic](class_ab_audio_amplifier_circuit.png)"
   ]
  },
  {
   "cell_type": "code",
   "execution_count": 48,
   "metadata": {},
   "outputs": [],
   "source": [
    "import pandas as pd\n",
    "import numpy as np\n",
    "import matplotlib.pyplot as plt\n",
    "import copy\n",
    "\n",
    "pd.set_option('mode.copy_on_write', True)\n",
    "\n",
    "BASE_DIR = 'C:\\\\Users\\\\td\\\\Desktop\\\\uni\\\\cia\\\\lab\\\\github\\\\cia\\\\tables\\\\'\n",
    "\n",
    "L_values = [60, 120, 180, 240, 500, 1000]\n",
    "nmos_files = [f\"{BASE_DIR}nmos_{L}n.csv\" for L in L_values]\n",
    "pmos_files = [f\"{BASE_DIR}pmos_{L}n.csv\" for L in L_values]\n",
    "\n",
    "nmos_data = {}\n",
    "pmos_data = {}\n",
    "\n",
    "# load data\n",
    "for L, nmos_file, pmos_file in zip(L_values, nmos_files, pmos_files):\n",
    "    nmos_data[L] = pd.read_csv(nmos_file)\n",
    "    pmos_data[L] = pd.read_csv(pmos_file)\n",
    "\n",
    "for L in L_values:\n",
    "    nmos_data[L] = np.abs(nmos_data[L])\n",
    "    pmos_data[L] = np.abs(pmos_data[L])\n",
    "\n",
    "scalable_columns_nmos = ['gm', 'id', 'gds', 'cdb', 'cgs', 'cgd', 'csb', 'cdd', 'w']\n",
    "scalable_columns_pmos = ['gm', 'id', 'gds', 'cdb','cbd', 'csg', 'cgs', 'cgd', 'cdg','cbs', 'csb', 'cdd', 'w']\n",
    "\n",
    "nmos_w_std = 5e-6\n",
    "pmos_w_std = 5e-6\n",
    "\n",
    "# add a column for the width of the transistor\n",
    "for L in L_values:\n",
    "    nmos_data[L]['w'] = nmos_w_std\n",
    "    pmos_data[L]['w'] = pmos_w_std\n",
    "\n",
    "# for L in L_values:\n",
    "#     print('\\n')\n",
    "#     print(f'L = {L}n - NMOS')\n",
    "#     print(nmos_data[L].to_string())\n",
    "#     print('\\n')\n",
    "#     print(f'L = {L}n - PMOS')\n",
    "#     print(pmos_data[L].to_string())\n",
    "#     print('\\n')"
   ]
  },
  {
   "cell_type": "markdown",
   "metadata": {},
   "source": [
    "## Specifications"
   ]
  },
  {
   "cell_type": "code",
   "execution_count": 49,
   "metadata": {},
   "outputs": [],
   "source": [
    "BW_spec = 20*10**3                      # Bandwidth\n",
    "Gain_spec_dB = 54                       # Gain in dB\n",
    "Gain_spec_lin = 10**(Gain_spec_dB/20)   # Gain in linear\n",
    "GBW_spec =  Gain_spec_lin * BW_spec     # 10MHz\n",
    "\n",
    "vout_swing = 0.4                        # Vout swing    \n",
    "load = 16                               # Load resistance\n",
    "\n",
    "Vdd = 1.2\n",
    "Vcm = Vdd/2\n",
    "Vss = 0"
   ]
  },
  {
   "cell_type": "markdown",
   "metadata": {},
   "source": [
    "## Output Stage"
   ]
  },
  {
   "cell_type": "code",
   "execution_count": 50,
   "metadata": {},
   "outputs": [],
   "source": [
    "id_A = 2.5 * 10**-3\n",
    "id_B = vout_swing / load\n",
    "\n",
    "# vdsat values to guarantee the saturation region\n",
    "nmos_vdsat_min = 0\n",
    "nmos_vdsat_max = 0.180\n",
    "pmos_vdsat_min = 0\n",
    "pmos_vdsat_max = 0.180\n",
    "\n",
    "# max W values\n",
    "nmos_w_max = 3.5 * 10**-3\n",
    "pmos_w_max = 6.5 * 10**-3\n",
    "\n",
    "# max Ka values based on the max W values\n",
    "nmos_ka_max = nmos_w_max / nmos_w_std\n",
    "pmos_ka_max = pmos_w_max / pmos_w_std\n",
    "\n",
    "# init tables\n",
    "out_nmos = copy.deepcopy(nmos_data)\n",
    "out_pmos = copy.deepcopy(pmos_data)"
   ]
  },
  {
   "cell_type": "markdown",
   "metadata": {},
   "source": [
    "### quiescent current analysis"
   ]
  },
  {
   "cell_type": "code",
   "execution_count": 51,
   "metadata": {},
   "outputs": [],
   "source": [
    "pmos_gmoverid_indices = {}\n",
    "\n",
    "for L in L_values:\n",
    "    out_nmos[L]['ka'] = id_A / out_nmos[L]['id']\n",
    "    out_pmos[L]['ka'] = id_A / out_pmos[L]['id']\n",
    "\n",
    "    out_nmos[L] = out_nmos[L].query(f' ka <= {nmos_ka_max}')\n",
    "    out_pmos[L] = out_pmos[L].query(f' ka <= {pmos_ka_max}')\n",
    "\n",
    "    for col in scalable_columns_nmos:\n",
    "        out_nmos[L][col] = out_nmos[L][col] * out_nmos[L]['ka']\n",
    "    for col in scalable_columns_pmos:\n",
    "        out_pmos[L][col] = out_pmos[L][col] * out_pmos[L]['ka']\n",
    "        \n",
    "    # create a list of possible gmoverid values for PMOS sorted in descending order to fix the PMOS from the best value to the worst\n",
    "    pmos_gmoverid_indices[L] = out_pmos[L]['gmoverid'].sort_values(ascending=False).index.tolist()"
   ]
  },
  {
   "cell_type": "code",
   "execution_count": 52,
   "metadata": {},
   "outputs": [],
   "source": [
    "i_pmos_gmoverid = {}\n",
    "pmos_fixed = {}\n",
    "\n",
    "i_pmos_gmoverid[60]   = 0\n",
    "i_pmos_gmoverid[120]  = 0\n",
    "i_pmos_gmoverid[180]  = 0\n",
    "i_pmos_gmoverid[240]  = 0\n",
    "i_pmos_gmoverid[500]  = 0\n",
    "i_pmos_gmoverid[1000] = 0\n",
    "\n",
    "for L in L_values:\n",
    "    index = pmos_gmoverid_indices[L][i_pmos_gmoverid[L]]\n",
    "    pmos_fixed[L] = out_pmos[L].loc[index]"
   ]
  },
  {
   "cell_type": "code",
   "execution_count": null,
   "metadata": {},
   "outputs": [],
   "source": [
    "gain_A = {}\n",
    "pole_A = {}\n",
    "\n",
    "for L in L_values:\n",
    "    gain_A[L] = (out_nmos[L]['gm'] + pmos_fixed[L]['gm']) / (out_nmos[L]['gds'] + pmos_fixed[L]['gds'] + 1/load)\n",
    "    pole_A[L] = (pmos_fixed[L]['gds'] + out_nmos[L]['gds'] + 1/load) / (pmos_fixed[L]['cgd'] + pmos_fixed[L]['cdd'] + out_nmos[L]['cgd'] + out_nmos[L]['cdd'])\n",
    "\n",
    "# plot the gains\n",
    "for L in L_values:\n",
    "    plt.plot(out_nmos[L]['gmoverid'], gain_A[L], label=f'L = {L}n')\n",
    "plt.axhline(y=1, color='r', linestyle='--')\n",
    "plt.title(f'Output stage gain vs gm/Id of MNd')\n",
    "plt.xlabel('gm/Id of MNd')\n",
    "plt.ylabel('Gain')\n",
    "plt.legend()\n",
    "plt.show()\n",
    "\n",
    "# plot the poles\n",
    "for L in L_values:\n",
    "    pole_A_Hz = pole_A[L] / (2 * np.pi)\n",
    "    plt.plot(out_nmos[L]['gmoverid'], pole_A_Hz, label=f'L = {L}n')\n",
    "plt.axhline(y=GBW_spec*10, color='r', linestyle='--')\n",
    "plt.title(f'Output stage pole frequency vs gm/Id of MNd')\n",
    "plt.xlabel('gm/Id of MNd')\n",
    "plt.ylabel('Poles frequency [Hz]')   \n",
    "plt.legend()\n",
    "plt.show()"
   ]
  },
  {
   "cell_type": "code",
   "execution_count": 54,
   "metadata": {},
   "outputs": [],
   "source": [
    "nmos_gmoverid = 30  # gm/Id of MNd - chooses the maximum gm/Id of MNd\n",
    "nmos_fixed = {}\n",
    "\n",
    "for L in L_values:\n",
    "    nmos_nearest_index = (out_nmos[L]['gmoverid'] - nmos_gmoverid).abs().idxmin()\n",
    "    nmos_fixed[L] = out_nmos[L].loc[nmos_nearest_index]"
   ]
  },
  {
   "cell_type": "code",
   "execution_count": null,
   "metadata": {},
   "outputs": [],
   "source": [
    "M_ND_A = {}\n",
    "M_PD_A = {}\n",
    "for L in L_values:\n",
    "    M_ND_A[L] = nmos_fixed[L]\n",
    "    M_PD_A[L] = pmos_fixed[L]\n",
    "    \n",
    "print(f'M_PD:  L = 120 nm  |  w = {M_PD_A[120][\"w\"]*10**6:>7.3f} um  |  id = {M_PD_A[120][\"id\"]:<6.2e} A  |  gds = {M_PD_A[120][\"gds\"]*10**6:>7.2f} uS  |  gm = {M_PD_A[120][\"gm\"]*10**6:>7.2f} uS  |  gmoverid = {M_PD_A[120][\"gmoverid\"]:>7.2f}  |  vdsat = {M_PD_A[120][\"vdsat\"]*10**3:>7.2f} mV  |  vgs = {M_PD_A[120][\"vgs\"]*10**3:>7.2f} mV   |  cdd = {M_PD_A[120][\"cdd\"]*10**15:>7.2f} fF  |  cgd = {M_PD_A[120][\"cgd\"]*10**15:>7.2f} fF  |  cgs = {M_PD_A[120][\"cgs\"]*10**15:>7.2f} fF  |  csb = {M_PD_A[120][\"csb\"]*10**15:>7.2f} fF')\n",
    "print(f'M_ND:  L = 120 nm  |  w = {M_ND_A[120][\"w\"]*10**6:>7.3f} um  |  id = {M_ND_A[120][\"id\"]:<6.2e} A  |  gds = {M_ND_A[120][\"gds\"]*10**6:>7.2f} uS  |  gm = {M_ND_A[120][\"gm\"]*10**6:>7.2f} uS  |  gmoverid = {M_ND_A[120][\"gmoverid\"]:>7.2f}  |  vdsat = {M_ND_A[120][\"vdsat\"]*10**3:>7.2f} mV  |  vgs = {M_ND_A[120][\"vgs\"]*10**3:>7.2f} mV   |  cdd = {M_ND_A[120][\"cdd\"]*10**15:>7.2f} fF  |  cgd = {M_ND_A[120][\"cgd\"]*10**15:>7.2f} fF  |  cgs = {M_ND_A[120][\"cgs\"]*10**15:>7.2f} fF  |  csb = {M_ND_A[120][\"csb\"]*10**15:>7.2f} fF')\n"
   ]
  },
  {
   "cell_type": "code",
   "execution_count": 56,
   "metadata": {},
   "outputs": [],
   "source": [
    "gain_A_final = {}\n",
    "pole_A_final = {}\n",
    "\n",
    "for L in L_values:\n",
    "    gain_A_final[L] = (M_ND_A[L]['gm'] + M_PD_A[L]['gm']) / (M_ND_A[L]['gds'] + M_PD_A[L]['gds'] + 1/load)\n",
    "    pole_A_final[L] = (M_PD_A[L]['gds'] + M_ND_A[L]['gds'] + 1/load) / (M_PD_A[L]['cgd'] + M_PD_A[L]['cdd'] + M_ND_A[L]['cgd'] + M_ND_A[L]['cdd'])"
   ]
  },
  {
   "cell_type": "markdown",
   "metadata": {},
   "source": [
    "### max current analysis (25mA)"
   ]
  },
  {
   "cell_type": "code",
   "execution_count": 57,
   "metadata": {},
   "outputs": [],
   "source": [
    "# reset the tables\n",
    "out_nmos = copy.deepcopy(nmos_data)\n",
    "out_pmos = copy.deepcopy(pmos_data)"
   ]
  },
  {
   "cell_type": "code",
   "execution_count": 58,
   "metadata": {},
   "outputs": [],
   "source": [
    "# scale the tables with the Ka from the fixed transistors\n",
    "for L in L_values:\n",
    "    for col in scalable_columns_nmos:\n",
    "        out_nmos[L][col] = out_nmos[L][col] * nmos_fixed[L]['ka']\n",
    "    for col in scalable_columns_pmos:\n",
    "        out_pmos[L][col] = out_pmos[L][col] * pmos_fixed[L]['ka']\n",
    "\n",
    "# # print the scaled tables\n",
    "# for L in L_values:\n",
    "#     print('\\n')\n",
    "#     print(f'L = {L}n - NMOS')\n",
    "#     print(out_nmos[L].to_string())\n",
    "#     print('\\n')\n",
    "#     print(f'L = {L}n - PMOS')\n",
    "#     print(out_pmos[L].to_string())\n",
    "#     print('\\n')\n"
   ]
  },
  {
   "cell_type": "code",
   "execution_count": null,
   "metadata": {},
   "outputs": [],
   "source": [
    "# Plot Id vs Vdsat for NMOS\n",
    "for L in L_values:\n",
    "    plt.plot(out_nmos[L]['vdsat'], out_nmos[L]['id'], label=f'L={L}nm')\n",
    "plt.axhline(y=id_B, color='k', linestyle='--')\n",
    "plt.axvline(x=nmos_vdsat_min, color='k', linestyle='--')\n",
    "plt.axvline(x=nmos_vdsat_max, color='k', linestyle='--')\n",
    "plt.xlabel('Vdsat [V]')\n",
    "plt.ylabel('Id [A]')\n",
    "plt.title('NMOS: Id vs Vdsat')\n",
    "plt.legend()\n",
    "plt.show()\n",
    "\n",
    "# Plot Id vs Vdsat for PMOS\n",
    "for L in L_values:\n",
    "    plt.plot(out_pmos[L]['vdsat'], out_pmos[L]['id'], label=f'L={L}nm')\n",
    "plt.axhline(y=id_B, color='k', linestyle='--')\n",
    "plt.axvline(x=pmos_vdsat_min, color='k', linestyle='--')\n",
    "plt.axvline(x=pmos_vdsat_max, color='k', linestyle='--')\n",
    "plt.xlabel('Vdsat [V]')\n",
    "plt.ylabel('Id [A]')\n",
    "plt.title('PMOS: Id vs Vdsat')\n",
    "plt.legend()\n",
    "plt.show()"
   ]
  },
  {
   "cell_type": "code",
   "execution_count": 60,
   "metadata": {},
   "outputs": [],
   "source": [
    "nmos_final = {}\n",
    "pmos_final = {}\n",
    "\n",
    "for L in L_values:\n",
    "    # filter the results to show only the values that meet the requirements\n",
    "    out_nmos[L] = out_nmos[L].query(f'vdsat >= {nmos_vdsat_min} and vdsat <= {nmos_vdsat_max} and w <= {nmos_w_max}')\n",
    "    out_pmos[L] = out_pmos[L].query(f'vdsat >= {pmos_vdsat_min} and vdsat <= {pmos_vdsat_max} and w <= {pmos_w_max}')\n",
    "\n",
    "    # get the nearest value to the target Id\n",
    "    nmos_nearest_index = (out_nmos[L]['id'] - id_B).abs().idxmin()\n",
    "    pmos_nearest_index = (out_pmos[L]['id'] - id_B).abs().idxmin()\n",
    "\n",
    "    nmos_final[L] = out_nmos[L].loc[nmos_nearest_index]\n",
    "    pmos_final[L] = out_pmos[L].loc[pmos_nearest_index]"
   ]
  },
  {
   "cell_type": "code",
   "execution_count": 61,
   "metadata": {},
   "outputs": [],
   "source": [
    "gain_B_NMOS_final = {}\n",
    "gain_B_PMOS_final = {}\n",
    "pole_B_NMOS_final = {}\n",
    "pole_B_PMOS_final = {}\n",
    "\n",
    "for L in L_values:\n",
    "    gain_B_NMOS_final[L] = nmos_final[L]['gm'] / (nmos_final[L]['gds'] + 1/load)\n",
    "    gain_B_PMOS_final[L] = pmos_final[L]['gm'] / (pmos_final[L]['gds'] + 1/load)\n",
    "    pole_B_NMOS_final[L] = (nmos_final[L]['gds'] + 1/load) / (nmos_final[L]['cgd'] + nmos_final[L]['cdd'] + pmos_final[L]['cgd'] + pmos_final[L]['cdd'])\n",
    "    pole_B_PMOS_final[L] = (pmos_final[L]['gds'] + 1/load) / (pmos_final[L]['cgd'] + pmos_final[L]['cdd'] + nmos_final[L]['cgd'] + nmos_final[L]['cdd'])"
   ]
  },
  {
   "cell_type": "code",
   "execution_count": 62,
   "metadata": {},
   "outputs": [],
   "source": [
    "M_ND_B = {}\n",
    "M_PD_B = {}\n",
    "for L in L_values:\n",
    "    M_ND_B[L] = nmos_final[L]\n",
    "    M_PD_B[L] = pmos_final[L]"
   ]
  },
  {
   "cell_type": "code",
   "execution_count": null,
   "metadata": {},
   "outputs": [],
   "source": [
    "M_ND_PD_L = 120\n",
    "M_ND_L = M_ND_PD_L\n",
    "M_PD_L = M_ND_PD_L\n",
    "\n",
    "# verify gain and poles for each case A and B for the chosen L values for each transistor\n",
    "print(f'Gain and poles for case A (Id = iq = {id_A} A)')\n",
    "print(f'    Gain: {20*np.log10(gain_A_final[M_ND_L])} dB')\n",
    "print(f'    Pole: {pole_A_final[M_ND_L] * 10**-6 * 1/(2*np.pi)} MHz')\n",
    "print()\n",
    "print(f'Gain and poles for case B (Id = id target = {id_B} A)')\n",
    "print('NMOS:')\n",
    "print(f'    Gain: {20*np.log10(gain_B_NMOS_final[M_ND_L])} dB')\n",
    "print(f'    Pole: {pole_B_NMOS_final[M_ND_L] * 10**-6 * 1/(2*np.pi)} MHz')\n",
    "print('PMOS:')\n",
    "print(f'    Gain: {20*np.log10(gain_B_PMOS_final[M_PD_L])} dB')\n",
    "print(f'    Pole: {pole_B_PMOS_final[M_PD_L] * 10**-6 * 1/(2*np.pi)} MHz')"
   ]
  },
  {
   "cell_type": "markdown",
   "metadata": {},
   "source": [
    "### Final sizing output stage"
   ]
  },
  {
   "cell_type": "code",
   "execution_count": null,
   "metadata": {},
   "outputs": [],
   "source": [
    "M_ND = M_ND_B[M_ND_L]\n",
    "M_PD = M_PD_B[M_PD_L]\n",
    "\n",
    "print(f'M_PD:  L = {M_PD_L:>4} nm  |  w = {M_PD[\"w\"]*10**6:>7.3f} um  |  id = {M_PD[\"id\"]:<6.2e} A  |  gds = {M_PD[\"gds\"]*10**6:>7.2f} uS  |  gm = {M_PD[\"gm\"]*10**6:>7.2f} uS  |  gmoverid = {M_PD[\"gmoverid\"]:>7.2f}  |  vdsat = {M_PD[\"vdsat\"]*10**3:>7.2f} mV  |  vgs = {M_PD[\"vgs\"]*10**3:>7.2f} mV   |  cdd = {M_PD[\"cdd\"]*10**15:>7.2f} fF  |  cgd = {M_PD[\"cgd\"]*10**15:>7.2f} fF  |  cgs = {M_PD[\"cgs\"]*10**15:>7.2f} fF  |  csb = {M_PD[\"csb\"]*10**15:>7.2f} fF')\n",
    "print(f'M_ND:  L = {M_ND_L:>4} nm  |  w = {M_ND[\"w\"]*10**6:>7.3f} um  |  id = {M_ND[\"id\"]:<6.2e} A  |  gds = {M_ND[\"gds\"]*10**6:>7.2f} uS  |  gm = {M_ND[\"gm\"]*10**6:>7.2f} uS  |  gmoverid = {M_ND[\"gmoverid\"]:>7.2f}  |  vdsat = {M_ND[\"vdsat\"]*10**3:>7.2f} mV  |  vgs = {M_ND[\"vgs\"]*10**3:>7.2f} mV   |  cdd = {M_ND[\"cdd\"]*10**15:>7.2f} fF  |  cgd = {M_ND[\"cgd\"]*10**15:>7.2f} fF  |  cgs = {M_ND[\"cgs\"]*10**15:>7.2f} fF  |  csb = {M_ND[\"csb\"]*10**15:>7.2f} fF')\n"
   ]
  },
  {
   "cell_type": "markdown",
   "metadata": {},
   "source": [
    "## Cascode Stage"
   ]
  },
  {
   "cell_type": "code",
   "execution_count": 65,
   "metadata": {},
   "outputs": [],
   "source": [
    "# start from new tables\n",
    "nmos = copy.deepcopy(nmos_data)\n",
    "pmos = copy.deepcopy(pmos_data)\n",
    "\n",
    "# for L in L_values:\n",
    "#     print('\\n')\n",
    "#     print(f'L = {L}n - NMOS')\n",
    "#     print(nmos[L].to_string())\n",
    "#     print('\\n')\n",
    "#     print(f'L = {L}n - PMOS')\n",
    "#     print(pmos[L].to_string())"
   ]
  },
  {
   "cell_type": "markdown",
   "metadata": {},
   "source": [
    "### M3"
   ]
  },
  {
   "cell_type": "code",
   "execution_count": 66,
   "metadata": {},
   "outputs": [],
   "source": [
    "security_factor_1 = 10  # gm1/gds1 = 25\n",
    "security_factor_2 = 1.2 # gds2 = 20% of gds1\n",
    "security_factor_3 = 1.2 # gds4 * (gds5/gm5) = 20% (gds1 + gds2)*(gds3/gm3)"
   ]
  },
  {
   "cell_type": "code",
   "execution_count": null,
   "metadata": {},
   "outputs": [],
   "source": [
    "G_ap = {}\n",
    "# plot gain of cascode in function of gm/Id\n",
    "plt.figure()\n",
    "for L in L_values:\n",
    "    G_ap[L] = security_factor_1 * (1 / ( security_factor_2 * (nmos[L]['gds'] / nmos[L]['gm']) * security_factor_3))\n",
    "    G_ap_dB = 20*np.log10(G_ap[L])\n",
    "    plt.plot(nmos[L]['gmoverid'], G_ap_dB, label=f'L={L}nm')\n",
    "plt.axhline(y=Gain_spec_dB, color='k', linestyle='--', label='Gain spec')\n",
    "plt.xlabel('gm/Id')\n",
    "plt.ylabel('Gain')\n",
    "plt.legend()\n",
    "plt.title('Gain of Cascode in function of gm/Id of M3')\n",
    "plt.grid()\n",
    "plt.show()"
   ]
  },
  {
   "cell_type": "code",
   "execution_count": 68,
   "metadata": {},
   "outputs": [],
   "source": [
    "M_3_L = 240\n",
    "M_3_gmoverid_desired = 25\n",
    "M_3_index = (np.abs(nmos[M_3_L]['gmoverid'] - M_3_gmoverid_desired)).idxmin()\n",
    "M_3 = nmos[M_3_L].iloc[M_3_index]"
   ]
  },
  {
   "cell_type": "code",
   "execution_count": 69,
   "metadata": {},
   "outputs": [],
   "source": [
    "G_prev_dB = 20*np.log10(G_ap[M_3_L][M_3_index])"
   ]
  },
  {
   "cell_type": "markdown",
   "metadata": {},
   "source": [
    "### M1"
   ]
  },
  {
   "cell_type": "code",
   "execution_count": 70,
   "metadata": {},
   "outputs": [],
   "source": [
    "M_1_L = 1000\n",
    "M_1_gmoverid_desired = 25\n",
    "M_1_index = (np.abs((pmos[M_1_L]['gmoverid']) - M_1_gmoverid_desired)).idxmin()\n",
    "M_1 = pmos[M_1_L].iloc[M_1_index]"
   ]
  },
  {
   "cell_type": "markdown",
   "metadata": {},
   "source": [
    "### M4"
   ]
  },
  {
   "cell_type": "code",
   "execution_count": 71,
   "metadata": {},
   "outputs": [],
   "source": [
    "M_4_L = 1000\n",
    "M_4_gmoverid_desired = 10\n",
    "M_4_index = (np.abs(pmos[M_4_L]['gmoverid'] - M_4_gmoverid_desired)).idxmin()\n",
    "M_4 = pmos[M_4_L].iloc[M_4_index]"
   ]
  },
  {
   "cell_type": "markdown",
   "metadata": {},
   "source": [
    "### M5"
   ]
  },
  {
   "cell_type": "code",
   "execution_count": 72,
   "metadata": {},
   "outputs": [],
   "source": [
    "M_5_L = 240\n",
    "M_5_gmoverid_desired = 25\n",
    "M_5_index = (np.abs(pmos[M_5_L]['gmoverid'] - M_5_gmoverid_desired)).idxmin()\n",
    "M_5 = pmos[M_5_L].iloc[M_5_index]"
   ]
  },
  {
   "cell_type": "markdown",
   "metadata": {},
   "source": [
    "### M2"
   ]
  },
  {
   "cell_type": "code",
   "execution_count": 73,
   "metadata": {},
   "outputs": [],
   "source": [
    "M_2_L = 1000\n",
    "M_2_gmoverid_desired = 10\n",
    "M_2_index = (np.abs(nmos[M_2_L]['gmoverid'] - M_2_gmoverid_desired)).idxmin()\n",
    "M_2 = nmos[M_2_L].iloc[M_2_index]"
   ]
  },
  {
   "cell_type": "markdown",
   "metadata": {},
   "source": [
    "### M0"
   ]
  },
  {
   "cell_type": "code",
   "execution_count": 74,
   "metadata": {},
   "outputs": [],
   "source": [
    "M_0_L = 1000\n",
    "M_0_gmoverid_desired = 10\n",
    "M_0_index = (np.abs(pmos[M_0_L]['gmoverid'] - M_0_gmoverid_desired)).idxmin()\n",
    "M_0 = pmos[M_0_L].iloc[M_0_index]"
   ]
  },
  {
   "cell_type": "markdown",
   "metadata": {},
   "source": [
    "### Transistors scaling"
   ]
  },
  {
   "cell_type": "markdown",
   "metadata": {},
   "source": [
    "#### scale M1, M4 and M5 to have the same current as M3"
   ]
  },
  {
   "cell_type": "code",
   "execution_count": 75,
   "metadata": {},
   "outputs": [],
   "source": [
    "ka_M1 = M_3['id'] / M_1['id']\n",
    "ka_M4 = M_3['id'] / M_4['id']\n",
    "ka_M5 = M_3['id'] / M_5['id']\n",
    "\n",
    "M_1['ka'] = ka_M1\n",
    "M_4['ka'] = ka_M4\n",
    "M_5['ka'] = ka_M5\n",
    "\n",
    "for col in scalable_columns_pmos:\n",
    "    M_1[col] = M_1[col] * ka_M1\n",
    "    M_4[col] = M_4[col] * ka_M4\n",
    "    M_5[col] = M_5[col] * ka_M5"
   ]
  },
  {
   "cell_type": "markdown",
   "metadata": {},
   "source": [
    "#### scale M0 and M2 to have 2 * Id M3"
   ]
  },
  {
   "cell_type": "code",
   "execution_count": 76,
   "metadata": {},
   "outputs": [],
   "source": [
    "ka_M0 = (2*M_1['id']) / M_0['id']\n",
    "ka_M2 = (M_1['id'] + M_3['id']) / M_2['id']\n",
    "\n",
    "M_0['ka'] = ka_M0\n",
    "M_2['ka'] = ka_M2\n",
    "\n",
    "for col in scalable_columns_pmos:\n",
    "    M_0[col] = M_0[col] * ka_M0\n",
    "\n",
    "for col in scalable_columns_nmos:\n",
    "    M_2[col] = M_2[col] * ka_M2"
   ]
  },
  {
   "cell_type": "markdown",
   "metadata": {},
   "source": [
    "### Evaluation of poles with the real and approximated equations"
   ]
  },
  {
   "cell_type": "code",
   "execution_count": null,
   "metadata": {},
   "outputs": [],
   "source": [
    "# Calculate P4\n",
    "P4 = (M_4['gm'] / (2 * M_4['cgs'])) / (10**6) * 1 / (2 * np.pi)\n",
    "print(f\"P4 = {P4:.3f} MHz\")\n",
    "\n",
    "# Calculate P4_real\n",
    "P4_real = M_4['gm'] / (2 *(M_4['cgs'] + M_4['cgd']) + M_5['cgd'] + M_5['cdd'] + M_3['cgd'] + M_3['cdd']) / (10**6) * 1 / (2 * np.pi)\n",
    "print(f\"P4_real = {P4_real:.3f} MHz\")\n",
    "\n",
    "# Calculate P3\n",
    "P3 = (M_5['gm'] / (M_5['cgs'] + M_5['csb'] + M_4['cdd'])) / (10**6) * 1 / (2 * np.pi)\n",
    "print(f\"P3 = {P3:.3f} MHz\")\n",
    "\n",
    "# Calculate P3_real\n",
    "P3_real = ((M_5['gm'] + M_4['gds']) / (M_5['cgs'] + M_5['csb'] + M_4['cdd'] + M_4['cdg'])) / (10**6) * 1 / (2 * np.pi)\n",
    "print(f\"P3_real = {P3_real:.3f} MHz\")\n",
    "\n",
    "# Calculate P2\n",
    "P2 = (M_3['gm'] / (M_3['cgs'] + M_3['csb'] + M_2['cdd'] + M_1['cdd'])) / (10**6) * 1 / (2 * np.pi)\n",
    "print(f\"P2 = {P2:.3f} MHz\")\n",
    "\n",
    "# Calculate P2_real\n",
    "P2_real = ((M_3['gm'] + M_1['gds'] + M_2['gds']) / (M_3['cgs'] + M_3['csb'] + M_2['cdd'] + M_2['cgd'] + M_1['cdd'] + M_1['cdg'])) / (10**6) * 1 / (2 * np.pi)\n",
    "print(f\"P2_real = {P2_real:.3f} MHz\")"
   ]
  },
  {
   "cell_type": "code",
   "execution_count": null,
   "metadata": {},
   "outputs": [],
   "source": [
    "G_real = (M_1['gm']) / ((M_1['gds'] + M_2['gds']) * (M_3['gds'] / M_3['gm']) + (M_4['gds'] * (M_5['gds']/ M_5['gm'])))\n",
    "G_real_dB = 20*np.log10(G_real)\n",
    "\n",
    "print(f'Prev Gain = {G_prev_dB:.2f} dB')\n",
    "print(f'Real Gain = {G_real_dB:.2f} dB')\n",
    "print(f'Overall approximation validity: {G_real_dB / G_prev_dB:.2f}')"
   ]
  },
  {
   "cell_type": "markdown",
   "metadata": {},
   "source": [
    "### Verification of GBW requirements and adjustments"
   ]
  },
  {
   "cell_type": "code",
   "execution_count": 79,
   "metadata": {},
   "outputs": [],
   "source": [
    "nmos = copy.deepcopy(nmos_data)\n",
    "pmos = copy.deepcopy(pmos_data)"
   ]
  },
  {
   "cell_type": "code",
   "execution_count": 80,
   "metadata": {},
   "outputs": [],
   "source": [
    "C_13 = 1 * 10**-12\n",
    "security_margin_GBW = 1.4 # 20% margin over the spec"
   ]
  },
  {
   "cell_type": "code",
   "execution_count": null,
   "metadata": {},
   "outputs": [],
   "source": [
    "# GBW = gm1/C_13\n",
    "GBW = (pmos[M_1_L]['gm'] / C_13) * 1/(2*np.pi)\n",
    "GBW_M1 = (M_1['gm'] / C_13) * 1/(2*np.pi)\n",
    "\n",
    "plt.figure()\n",
    "plt.plot(pmos[M_1_L]['gm'], GBW, label=f'L={L}nm')\n",
    "plt.axvline(x=M_1['gm'], color='r', linestyle='--')\n",
    "plt.axhline(y=GBW_M1, color='r', linestyle='--')\n",
    "plt.axhline(y=GBW_spec, color='k', linestyle='--')\n",
    "plt.axhline(y=security_margin_GBW*GBW_spec, color='g', linestyle='--')\n",
    "plt.yscale('log')\n",
    "plt.xlabel('gm')\n",
    "plt.ylabel('GBW')\n",
    "plt.legend()\n",
    "plt.title('GBW in function of gm')\n",
    "plt.grid()\n",
    "plt.show()"
   ]
  },
  {
   "cell_type": "code",
   "execution_count": null,
   "metadata": {},
   "outputs": [],
   "source": [
    "M_1_gm_desired = (GBW_spec * security_margin_GBW) * C_13 * 2 * np.pi\n",
    "print(f'M1_gm_desired = {M_1_gm_desired:.2e}')\n",
    "\n",
    "ka_1st_stage = M_1_gm_desired / M_1['gm']\n",
    "\n",
    "# scale NMOS transistors (M2 and M3)\n",
    "for col in scalable_columns_nmos:\n",
    "    M_2[col] = M_2[col] * ka_1st_stage\n",
    "    M_3[col] = M_3[col] * ka_1st_stage\n",
    "\n",
    "# scale PMOS transistors (M1, M4 and M5 and M0)\n",
    "for col in scalable_columns_pmos:\n",
    "    M_1[col] = M_1[col] * ka_1st_stage\n",
    "    M_4[col] = M_4[col] * ka_1st_stage\n",
    "    M_5[col] = M_5[col] * ka_1st_stage\n",
    "    M_0[col] = M_0[col] * ka_1st_stage"
   ]
  },
  {
   "cell_type": "markdown",
   "metadata": {},
   "source": [
    "### Final sizing"
   ]
  },
  {
   "cell_type": "code",
   "execution_count": null,
   "metadata": {},
   "outputs": [],
   "source": [
    "print(f'Final sizing for cascode stage after adjust of {ka_1st_stage}:')\n",
    "print(f'M0:  L = {M_0_L:>4} nm  |  w = {M_0[\"w\"]*10**6:>7.3f} um  |  id = {M_0[\"id\"]:<6.2e} A  |  gds = {M_0[\"gds\"]*10**6:>7.2f} uS  |  gm = {M_0[\"gm\"]*10**6:>7.2f} uS  |  gmoverid = {M_0[\"gmoverid\"]:>7.2f}  |  vdsat = {M_0[\"vdsat\"]*10**3:>7.2f} mV  |  vgs = {M_0[\"vgs\"]*10**3:>7.2f} mV   |  cdd = {M_0[\"cdd\"]*10**15:>7.2f} fF  |  cgd = {M_0[\"cgd\"]*10**15:>7.2f} fF  |  cgs = {M_0[\"cgs\"]*10**15:>7.2f} fF  |  csb = {M_0[\"csb\"]*10**15:>7.2f} fF')\n",
    "print(f'M1:  L = {M_1_L:>4} nm  |  w = {M_1[\"w\"]*10**6:>7.3f} um  |  id = {M_1[\"id\"]:<6.2e} A  |  gds = {M_1[\"gds\"]*10**6:>7.2f} uS  |  gm = {M_1[\"gm\"]*10**6:>7.2f} uS  |  gmoverid = {M_1[\"gmoverid\"]:>7.2f}  |  vdsat = {M_1[\"vdsat\"]*10**3:>7.2f} mV  |  vgs = {M_1[\"vgs\"]*10**3:>7.2f} mV   |  cdd = {M_1[\"cdd\"]*10**15:>7.2f} fF  |  cgd = {M_1[\"cgd\"]*10**15:>7.2f} fF  |  cgs = {M_1[\"cgs\"]*10**15:>7.2f} fF  |  csb = {M_1[\"csb\"]*10**15:>7.2f} fF')\n",
    "print(f'M2:  L = {M_2_L:>4} nm  |  w = {M_2[\"w\"]*10**6:>7.3f} um  |  id = {M_2[\"id\"]:<6.2e} A  |  gds = {M_2[\"gds\"]*10**6:>7.2f} uS  |  gm = {M_2[\"gm\"]*10**6:>7.2f} uS  |  gmoverid = {M_2[\"gmoverid\"]:>7.2f}  |  vdsat = {M_2[\"vdsat\"]*10**3:>7.2f} mV  |  vgs = {M_2[\"vgs\"]*10**3:>7.2f} mV   |  cdd = {M_2[\"cdd\"]*10**15:>7.2f} fF  |  cgd = {M_2[\"cgd\"]*10**15:>7.2f} fF  |  cgs = {M_2[\"cgs\"]*10**15:>7.2f} fF  |  csb = {M_2[\"csb\"]*10**15:>7.2f} fF')\n",
    "print(f'M3:  L = {M_3_L:>4} nm  |  w = {M_3[\"w\"]*10**6:>7.3f} um  |  id = {M_3[\"id\"]:<6.2e} A  |  gds = {M_3[\"gds\"]*10**6:>7.2f} uS  |  gm = {M_3[\"gm\"]*10**6:>7.2f} uS  |  gmoverid = {M_3[\"gmoverid\"]:>7.2f}  |  vdsat = {M_3[\"vdsat\"]*10**3:>7.2f} mV  |  vgs = {M_3[\"vgs\"]*10**3:>7.2f} mV   |  cdd = {M_3[\"cdd\"]*10**15:>7.2f} fF  |  cgd = {M_3[\"cgd\"]*10**15:>7.2f} fF  |  cgs = {M_3[\"cgs\"]*10**15:>7.2f} fF  |  csb = {M_3[\"csb\"]*10**15:>7.2f} fF')\n",
    "print(f'M4:  L = {M_4_L:>4} nm  |  w = {M_4[\"w\"]*10**6:>7.3f} um  |  id = {M_4[\"id\"]:<6.2e} A  |  gds = {M_4[\"gds\"]*10**6:>7.2f} uS  |  gm = {M_4[\"gm\"]*10**6:>7.2f} uS  |  gmoverid = {M_4[\"gmoverid\"]:>7.2f}  |  vdsat = {M_4[\"vdsat\"]*10**3:>7.2f} mV  |  vgs = {M_4[\"vgs\"]*10**3:>7.2f} mV   |  cdd = {M_4[\"cdd\"]*10**15:>7.2f} fF  |  cgd = {M_4[\"cgd\"]*10**15:>7.2f} fF  |  cgs = {M_4[\"cgs\"]*10**15:>7.2f} fF  |  csb = {M_4[\"csb\"]*10**15:>7.2f} fF')\n",
    "print(f'M5:  L = {M_5_L:>4} nm  |  w = {M_5[\"w\"]*10**6:>7.3f} um  |  id = {M_5[\"id\"]:<6.2e} A  |  gds = {M_5[\"gds\"]*10**6:>7.2f} uS  |  gm = {M_5[\"gm\"]*10**6:>7.2f} uS  |  gmoverid = {M_5[\"gmoverid\"]:>7.2f}  |  vdsat = {M_5[\"vdsat\"]*10**3:>7.2f} mV  |  vgs = {M_5[\"vgs\"]*10**3:>7.2f} mV   |  cdd = {M_5[\"cdd\"]*10**15:>7.2f} fF  |  cgd = {M_5[\"cgd\"]*10**15:>7.2f} fF  |  cgs = {M_5[\"cgs\"]*10**15:>7.2f} fF  |  csb = {M_5[\"csb\"]*10**15:>7.2f} fF')\n"
   ]
  },
  {
   "cell_type": "markdown",
   "metadata": {},
   "source": [
    "## Current Mirror stage"
   ]
  },
  {
   "cell_type": "code",
   "execution_count": 84,
   "metadata": {},
   "outputs": [],
   "source": [
    "M_factor = 450"
   ]
  },
  {
   "cell_type": "code",
   "execution_count": 85,
   "metadata": {},
   "outputs": [],
   "source": [
    "nmos = copy.deepcopy(nmos_data)\n",
    "pmos = copy.deepcopy(pmos_data)\n",
    "\n",
    "# scale the tables to have current = id_B / M_factor\n",
    "for L in L_values:\n",
    "    nmos[L]['ka'] = (id_B / M_factor) / nmos[L]['id']\n",
    "    pmos[L]['ka'] = (id_B / M_factor) / pmos[L]['id']\n",
    "\n",
    "    for col in scalable_columns_nmos:\n",
    "        nmos[L][col] = nmos[L][col] * nmos[L]['ka']\n",
    "    for col in scalable_columns_pmos:\n",
    "        pmos[L][col] = pmos[L][col] * pmos[L]['ka']"
   ]
  },
  {
   "cell_type": "markdown",
   "metadata": {},
   "source": [
    "### M_NB and M_PB"
   ]
  },
  {
   "cell_type": "code",
   "execution_count": 86,
   "metadata": {},
   "outputs": [],
   "source": [
    "M_NB_L = M_ND_L\n",
    "M_PB_L = M_PD_L\n",
    "\n",
    "M_NB = M_ND.copy()\n",
    "M_PB = M_PD.copy()\n",
    "\n",
    "for col in scalable_columns_nmos:\n",
    "    M_NB[col] = M_NB[col] * (1/M_factor)\n",
    "for col in scalable_columns_pmos:\n",
    "    M_PB[col] = M_PB[col] * (1/M_factor)"
   ]
  },
  {
   "cell_type": "markdown",
   "metadata": {},
   "source": [
    "### M_13"
   ]
  },
  {
   "cell_type": "code",
   "execution_count": 87,
   "metadata": {},
   "outputs": [],
   "source": [
    "M_13_L = M_3_L\n",
    "M_13_gmoverid = M_3['gmoverid']\n",
    "M_13_index = (np.abs(nmos[M_13_L]['gmoverid'] - M_13_gmoverid)).idxmin()\n",
    "M_13 = nmos[M_13_L].iloc[M_13_index]"
   ]
  },
  {
   "cell_type": "markdown",
   "metadata": {},
   "source": [
    "### M_14"
   ]
  },
  {
   "cell_type": "code",
   "execution_count": 88,
   "metadata": {},
   "outputs": [],
   "source": [
    "M_14_L = M_5_L\n",
    "M_14_gmoverid = M_5['gmoverid']\n",
    "M_14_index = (np.abs(pmos[M_14_L]['gmoverid'] - M_14_gmoverid)).idxmin()\n",
    "M_14 = pmos[M_14_L].iloc[M_14_index]"
   ]
  },
  {
   "cell_type": "code",
   "execution_count": 89,
   "metadata": {},
   "outputs": [],
   "source": [
    "nmos = copy.deepcopy(nmos_data)\n",
    "pmos = copy.deepcopy(pmos_data)\n",
    "\n",
    "# scale the tables to have current = id_B / M_factor\n",
    "for L in L_values:\n",
    "    nmos[L]['ka'] = ((id_B / M_factor) * 1.5) / nmos[L]['id']\n",
    "    pmos[L]['ka'] = ((id_B / M_factor) * 1.5) / pmos[L]['id']\n",
    "\n",
    "    for col in scalable_columns_nmos:\n",
    "        nmos[L][col] = nmos[L][col] * nmos[L]['ka']\n",
    "    for col in scalable_columns_pmos:\n",
    "        pmos[L][col] = pmos[L][col] * pmos[L]['ka']"
   ]
  },
  {
   "cell_type": "markdown",
   "metadata": {},
   "source": [
    "### M_12 and M_10"
   ]
  },
  {
   "cell_type": "code",
   "execution_count": 90,
   "metadata": {},
   "outputs": [],
   "source": [
    "M_10_L = M_0_L\n",
    "M_10_gmoverid = M_0['gmoverid']\n",
    "M_10_index = (np.abs(pmos[M_10_L]['gmoverid'] - M_10_gmoverid)).idxmin()\n",
    "M_10 = pmos[M_10_L].iloc[M_10_index]\n",
    "\n",
    "M_12_L = M_0_L\n",
    "M_12_gmoverid = M_0['gmoverid']\n",
    "M_12_index = (np.abs(pmos[M_12_L]['gmoverid'] - M_12_gmoverid)).idxmin()\n",
    "M_12 = pmos[M_12_L].iloc[M_12_index]"
   ]
  },
  {
   "cell_type": "code",
   "execution_count": 91,
   "metadata": {},
   "outputs": [],
   "source": [
    "nmos = copy.deepcopy(nmos_data)\n",
    "pmos = copy.deepcopy(pmos_data)\n",
    "\n",
    "# scale the tables to have current = id_B / M_factor\n",
    "for L in L_values:\n",
    "    nmos[L]['ka'] = ((id_B / M_factor) * 0.5) / nmos[L]['id']\n",
    "    pmos[L]['ka'] = ((id_B / M_factor) * 0.5) / pmos[L]['id']\n",
    "\n",
    "    for col in scalable_columns_nmos:\n",
    "        nmos[L][col] = nmos[L][col] * nmos[L]['ka']\n",
    "    for col in scalable_columns_pmos:\n",
    "        pmos[L][col] = pmos[L][col] * pmos[L]['ka']"
   ]
  },
  {
   "cell_type": "markdown",
   "metadata": {},
   "source": [
    "### M_11, M_9 and M_8"
   ]
  },
  {
   "cell_type": "code",
   "execution_count": 92,
   "metadata": {},
   "outputs": [],
   "source": [
    "M_11_L = 1000\n",
    "M_11_gmoverid_desired = 10\n",
    "M_11_index = (np.abs(nmos[M_11_L]['gmoverid'] - M_11_gmoverid_desired)).idxmin()\n",
    "M_11 = nmos[M_11_L].iloc[M_11_index]\n",
    "\n",
    "M_9_L = 1000\n",
    "M_9_gmoverid_desired = 10\n",
    "M_9_index = (np.abs(nmos[M_9_L]['gmoverid'] - M_9_gmoverid_desired)).idxmin()\n",
    "M_9 = nmos[M_9_L].iloc[M_9_index]\n",
    "\n",
    "M_8_L = 1000\n",
    "M_8_gmoverid_desired = 10\n",
    "M_8_index = (np.abs(nmos[M_8_L]['gmoverid'] - M_8_gmoverid_desired)).idxmin()\n",
    "M_8 = nmos[M_8_L].iloc[M_8_index]"
   ]
  },
  {
   "cell_type": "markdown",
   "metadata": {},
   "source": [
    "### M_6"
   ]
  },
  {
   "cell_type": "code",
   "execution_count": null,
   "metadata": {},
   "outputs": [],
   "source": [
    "out_cgd_worst_case = max(M_PD['cgd'], M_ND['cgd'])\n",
    "print(f\"worst case scenario for the gate-drain capacitance in output stage: {out_cgd_worst_case*10**12} pF\")"
   ]
  },
  {
   "cell_type": "code",
   "execution_count": null,
   "metadata": {},
   "outputs": [],
   "source": [
    "pole_2_global = {}\n",
    "plt.figure()\n",
    "for L in L_values:\n",
    "    pole_2_global[L] = ((C_13 * pmos[L]['gm']) / ( 2*np.pi * out_cgd_worst_case * ((pmos[L]['cgs'] + pmos[L]['cgd'] + M_3['cgd'] + M_3['cdd'] + M_5['cgd'] + M_5['cdd']) + C_13)))\n",
    "    plt.plot(pmos[L]['gmoverid'], pole_2_global[L], label=f'L = {L}nm')\n",
    "plt.axhline(y=2.5*10*10**6, color='k', linestyle='--')\n",
    "plt.yscale('log')\n",
    "plt.xlabel('gm/Id of M6')\n",
    "plt.ylabel('Frequency [Hz]')\n",
    "plt.title('Pole 2 global frequency vs gm/Id of M6')\n",
    "plt.legend()\n",
    "plt.show()"
   ]
  },
  {
   "cell_type": "code",
   "execution_count": null,
   "metadata": {},
   "outputs": [],
   "source": [
    "M_6_L = 120\n",
    "M_6_gmoverid_desired = 25\n",
    "M_6_index = (np.abs(pmos[M_6_L]['gmoverid'] - M_6_gmoverid_desired)).idxmin()\n",
    "M_6 = pmos[M_6_L].iloc[M_6_index]\n",
    "\n",
    "print(((C_13 * M_6['gm']) / ( 2*np.pi * out_cgd_worst_case * ((M_6['cgs'] + M_6['cgd'] + M_3['cgd'] + M_3['cdd'] + M_5['cgd'] + M_5['cdd']) + C_13))) * 10**-6, end='')\n",
    "print(' MHz')"
   ]
  },
  {
   "cell_type": "markdown",
   "metadata": {},
   "source": [
    "### M_7"
   ]
  },
  {
   "cell_type": "code",
   "execution_count": 96,
   "metadata": {},
   "outputs": [],
   "source": [
    "M_7_L = M_5_L\n",
    "M_7_gmoverid_desired = M_5['gmoverid']\n",
    "M_7_index = (np.abs(pmos[M_7_L]['gmoverid'] - M_7_gmoverid_desired)).idxmin()\n",
    "M_7 = pmos[M_7_L].iloc[M_7_index]"
   ]
  },
  {
   "cell_type": "markdown",
   "metadata": {},
   "source": [
    "### Final sizing"
   ]
  },
  {
   "cell_type": "code",
   "execution_count": null,
   "metadata": {},
   "outputs": [],
   "source": [
    "print('Final sizing for current-mirrors stage:')\n",
    "print(f'M6:  L = {M_6_L:>4} nm  |  w = {M_6[\"w\"]*10**6:>7.3f} um  |  id = {M_6[\"id\"]:<6.2e} A  |  gds = {M_6[\"gds\"]*10**6:>7.2f} uS  |  gm = {M_6[\"gm\"]*10**6:>7.2f} uS  |  gmoverid = {M_6[\"gmoverid\"]:>7.2f}  |  vdsat = {M_6[\"vdsat\"]*10**3:>7.2f} mV  |  vgs = {M_6[\"vgs\"]*10**3:>7.2f} mV   |  cdd = {M_6[\"cdd\"]*10**15:>7.2f} fF  |  cgd = {M_6[\"cgd\"]*10**15:>7.2f} fF  |  cgs = {M_6[\"cgs\"]*10**15:>7.2f} fF  |  csb = {M_6[\"csb\"]*10**15:>7.2f} fF')\n",
    "print(f'M7:  L = {M_7_L:>4} nm  |  w = {M_7[\"w\"]*10**6:>7.3f} um  |  id = {M_7[\"id\"]:<6.2e} A  |  gds = {M_7[\"gds\"]*10**6:>7.2f} uS  |  gm = {M_7[\"gm\"]*10**6:>7.2f} uS  |  gmoverid = {M_7[\"gmoverid\"]:>7.2f}  |  vdsat = {M_7[\"vdsat\"]*10**3:>7.2f} mV  |  vgs = {M_7[\"vgs\"]*10**3:>7.2f} mV   |  cdd = {M_7[\"cdd\"]*10**15:>7.2f} fF  |  cgd = {M_7[\"cgd\"]*10**15:>7.2f} fF  |  cgs = {M_7[\"cgs\"]*10**15:>7.2f} fF  |  csb = {M_7[\"csb\"]*10**15:>7.2f} fF')\n",
    "print(f'M8:  L = {M_8_L:>4} nm  |  w = {M_8[\"w\"]*10**6:>7.3f} um  |  id = {M_8[\"id\"]:<6.2e} A  |  gds = {M_8[\"gds\"]*10**6:>7.2f} uS  |  gm = {M_8[\"gm\"]*10**6:>7.2f} uS  |  gmoverid = {M_8[\"gmoverid\"]:>7.2f}  |  vdsat = {M_8[\"vdsat\"]*10**3:>7.2f} mV  |  vgs = {M_8[\"vgs\"]*10**3:>7.2f} mV   |  cdd = {M_8[\"cdd\"]*10**15:>7.2f} fF  |  cgd = {M_8[\"cgd\"]*10**15:>7.2f} fF  |  cgs = {M_8[\"cgs\"]*10**15:>7.2f} fF  |  csb = {M_8[\"csb\"]*10**15:>7.2f} fF')\n",
    "print(f'M9:  L = {M_9_L:>4} nm  |  w = {M_9[\"w\"]*10**6:>7.3f} um  |  id = {M_9[\"id\"]:<6.2e} A  |  gds = {M_9[\"gds\"]*10**6:>7.2f} uS  |  gm = {M_9[\"gm\"]*10**6:>7.2f} uS  |  gmoverid = {M_9[\"gmoverid\"]:>7.2f}  |  vdsat = {M_9[\"vdsat\"]*10**3:>7.2f} mV  |  vgs = {M_9[\"vgs\"]*10**3:>7.2f} mV   |  cdd = {M_9[\"cdd\"]*10**15:>7.2f} fF  |  cgd = {M_9[\"cgd\"]*10**15:>7.2f} fF  |  cgs = {M_9[\"cgs\"]*10**15:>7.2f} fF  |  csb = {M_9[\"csb\"]*10**15:>7.2f} fF')\n",
    "print(f'M10:  L = {M_10_L:>4} nm  |  w = {M_10[\"w\"]*10**6:>7.3f} um  |  id = {M_10[\"id\"]:<6.2e} A  |  gds = {M_10[\"gds\"]*10**6:>7.2f} uS  |  gm = {M_10[\"gm\"]*10**6:>7.2f} uS  |  gmoverid = {M_10[\"gmoverid\"]:>7.2f}  |  vdsat = {M_10[\"vdsat\"]*10**3:>7.2f} mV  |  vgs = {M_10[\"vgs\"]*10**3:>7.2f} mV   |  cdd = {M_10[\"cdd\"]*10**15:>7.2f} fF  |  cgd = {M_10[\"cgd\"]*10**15:>7.2f} fF  |  cgs = {M_10[\"cgs\"]*10**15:>7.2f} fF  |  csb = {M_10[\"csb\"]*10**15:>7.2f} fF')\n",
    "print(f'M11:  L = {M_11_L:>4} nm  |  w = {M_11[\"w\"]*10**6:>7.3f} um  |  id = {M_11[\"id\"]:<6.2e} A  |  gds = {M_11[\"gds\"]*10**6:>7.2f} uS  |  gm = {M_11[\"gm\"]*10**6:>7.2f} uS  |  gmoverid = {M_11[\"gmoverid\"]:>7.2f}  |  vdsat = {M_11[\"vdsat\"]*10**3:>7.2f} mV  |  vgs = {M_11[\"vgs\"]*10**3:>7.2f} mV   |  cdd = {M_11[\"cdd\"]*10**15:>7.2f} fF  |  cgd = {M_11[\"cgd\"]*10**15:>7.2f} fF  |  cgs = {M_11[\"cgs\"]*10**15:>7.2f} fF  |  csb = {M_11[\"csb\"]*10**15:>7.2f} fF')\n",
    "print(f'M12:  L = {M_12_L:>4} nm  |  w = {M_12[\"w\"]*10**6:>7.3f} um  |  id = {M_12[\"id\"]:<6.2e} A  |  gds = {M_12[\"gds\"]*10**6:>7.2f} uS  |  gm = {M_12[\"gm\"]*10**6:>7.2f} uS  |  gmoverid = {M_12[\"gmoverid\"]:>7.2f}  |  vdsat = {M_12[\"vdsat\"]*10**3:>7.2f} mV  |  vgs = {M_12[\"vgs\"]*10**3:>7.2f} mV   |  cdd = {M_12[\"cdd\"]*10**15:>7.2f} fF  |  cgd = {M_12[\"cgd\"]*10**15:>7.2f} fF  |  cgs = {M_12[\"cgs\"]*10**15:>7.2f} fF  |  csb = {M_12[\"csb\"]*10**15:>7.2f} fF')\n",
    "print(f'M13:  L = {M_13_L:>4} nm  |  w = {M_13[\"w\"]*10**6:>7.3f} um  |  id = {M_13[\"id\"]:<6.2e} A  |  gds = {M_13[\"gds\"]*10**6:>7.2f} uS  |  gm = {M_13[\"gm\"]*10**6:>7.2f} uS  |  gmoverid = {M_13[\"gmoverid\"]:>7.2f}  |  vdsat = {M_13[\"vdsat\"]*10**3:>7.2f} mV  |  vgs = {M_13[\"vgs\"]*10**3:>7.2f} mV   |  cdd = {M_13[\"cdd\"]*10**15:>7.2f} fF  |  cgd = {M_13[\"cgd\"]*10**15:>7.2f} fF  |  cgs = {M_13[\"cgs\"]*10**15:>7.2f} fF  |  csb = {M_13[\"csb\"]*10**15:>7.2f} fF')\n",
    "print(f'M14:  L = {M_14_L:>4} nm  |  w = {M_14[\"w\"]*10**6:>7.3f} um  |  id = {M_14[\"id\"]:<6.2e} A  |  gds = {M_14[\"gds\"]*10**6:>7.2f} uS  |  gm = {M_14[\"gm\"]*10**6:>7.2f} uS  |  gmoverid = {M_14[\"gmoverid\"]:>7.2f}  |  vdsat = {M_14[\"vdsat\"]*10**3:>7.2f} mV  |  vgs = {M_14[\"vgs\"]*10**3:>7.2f} mV   |  cdd = {M_14[\"cdd\"]*10**15:>7.2f} fF  |  cgd = {M_14[\"cgd\"]*10**15:>7.2f} fF  |  cgs = {M_14[\"cgs\"]*10**15:>7.2f} fF  |  csb = {M_14[\"csb\"]*10**15:>7.2f} fF')\n",
    "print(f'MNB:  L = {M_NB_L:>4} nm  |  w = {M_NB[\"w\"]*10**6:>7.3f} um  |  id = {M_NB[\"id\"]:<6.2e} A  |  gds = {M_NB[\"gds\"]*10**6:>7.2f} uS  |  gm = {M_NB[\"gm\"]*10**6:>7.2f} uS  |  gmoverid = {M_NB[\"gmoverid\"]:>7.2f}  |  vdsat = {M_NB[\"vdsat\"]*10**3:>7.2f} mV  |  vgs = {M_NB[\"vgs\"]*10**3:>7.2f} mV   |  cdd = {M_NB[\"cdd\"]*10**15:>7.2f} fF  |  cgd = {M_NB[\"cgd\"]*10**15:>7.2f} fF  |  cgs = {M_NB[\"cgs\"]*10**15:>7.2f} fF  |  csb = {M_NB[\"csb\"]*10**15:>7.2f} fF')\n",
    "print(f'MPB:  L = {M_PB_L:>4} nm  |  w = {M_PB[\"w\"]*10**6:>7.3f} um  |  id = {M_PB[\"id\"]:<6.2e} A  |  gds = {M_PB[\"gds\"]*10**6:>7.2f} uS  |  gm = {M_PB[\"gm\"]*10**6:>7.2f} uS  |  gmoverid = {M_PB[\"gmoverid\"]:>7.2f}  |  vdsat = {M_PB[\"vdsat\"]*10**3:>7.2f} mV  |  vgs = {M_PB[\"vgs\"]*10**3:>7.2f} mV   |  cdd = {M_PB[\"cdd\"]*10**15:>7.2f} fF  |  cgd = {M_PB[\"cgd\"]*10**15:>7.2f} fF  |  cgs = {M_PB[\"cgs\"]*10**15:>7.2f} fF  |  csb = {M_PB[\"csb\"]*10**15:>7.2f} fF')\n"
   ]
  },
  {
   "cell_type": "markdown",
   "metadata": {},
   "source": [
    "## Bias circuit"
   ]
  },
  {
   "cell_type": "code",
   "execution_count": 98,
   "metadata": {},
   "outputs": [],
   "source": [
    "nmos = copy.deepcopy(nmos_data)\n",
    "pmos = copy.deepcopy(pmos_data)"
   ]
  },
  {
   "cell_type": "markdown",
   "metadata": {},
   "source": [
    "### Vb_0"
   ]
  },
  {
   "cell_type": "code",
   "execution_count": null,
   "metadata": {},
   "outputs": [],
   "source": [
    "# Vb_0 = Vdd - Vsg_0 = Vdd - (vdsat_0 + vth_0)\n",
    "Vb_0 = Vdd - M_0['vdsat'] - M_0['vth']\n",
    "print(f'Vb_0 = {Vb_0:.2f} V')\n",
    "\n",
    "BIAS_M_4_L = M_0_L\n",
    "BIAS_M_4 = M_0.copy()\n",
    "\n",
    "BIAS_M_5_L = M_0_L\n",
    "BIAS_M_5 = M_0.copy()"
   ]
  },
  {
   "cell_type": "markdown",
   "metadata": {},
   "source": [
    "### Vb_1"
   ]
  },
  {
   "cell_type": "code",
   "execution_count": null,
   "metadata": {},
   "outputs": [],
   "source": [
    "# Vb_1 = Vgs_2 = vdsat_2 + vth_2\n",
    "Vb_1 = M_2['vdsat'] + M_2['vth']\n",
    "print(f'Vb_1 = {Vb_1:.2f} V')\n",
    "\n",
    "BIAS_M_0_L = M_2_L\n",
    "BIAS_M_0 = M_2.copy()\n",
    "\n",
    "BIAS_M_1_L = M_2_L\n",
    "BIAS_M_1 = M_2.copy()\n",
    "\n",
    "BIAS_M_3_L = M_2_L\n",
    "BIAS_M_3 = M_2.copy()"
   ]
  },
  {
   "cell_type": "markdown",
   "metadata": {},
   "source": [
    "### Vb_2"
   ]
  },
  {
   "cell_type": "code",
   "execution_count": null,
   "metadata": {},
   "outputs": [],
   "source": [
    "# Vb_2 = vdsat_3 + vth_3 + vdsat_2 + Vb_2_tol\n",
    "\n",
    "# Vb_2_tol = 0.2\n",
    "# Vb_2 = M_3['vdsat'] + M_3['vth'] + M_2['vdsat'] + Vb_2_tol\n",
    "# print(f'Vb_2 = {Vb_2:.2f} V')\n",
    "\n",
    "BIAS_M_6_vdsat_tol = 50 * 10**-3\n",
    "BIAS_M_6_vdsat_desired =  M_3['vdsat'] + M_2['vdsat'] + BIAS_M_6_vdsat_tol\n",
    "print(f'Vdsat_6 = {BIAS_M_6_vdsat_desired:.2f} V')\n",
    "\n",
    "BIAS_M_6_w = M_3_L"
   ]
  },
  {
   "cell_type": "markdown",
   "metadata": {},
   "source": [
    "### Vb_3"
   ]
  },
  {
   "cell_type": "code",
   "execution_count": null,
   "metadata": {},
   "outputs": [],
   "source": [
    "# Vb_3 = Vdd - vdsat_4 - vdsat_5 - vth_5\n",
    "\n",
    "# Vb_3_tol = 0.2\n",
    "# Vb_3 = Vdd - M_4['vdsat'] - M_5['vdsat'] - M_5['vth'] + Vb_3_tol\n",
    "# print(f'Vb_3 = {Vb_3:.2f} V')\n",
    "\n",
    "BIAS_M_2_vdsat_tol = 50 * 10**-3\n",
    "BIAS_M_2_vdsat_desired =  M_4['vdsat'] + M_5['vdsat'] + BIAS_M_2_vdsat_tol\n",
    "print(f'Vdsat_2 = {BIAS_M_2_vdsat_desired:.2f} V')\n",
    "\n",
    "BIAS_M_2_w = M_5_L"
   ]
  },
  {
   "cell_type": "code",
   "execution_count": null,
   "metadata": {},
   "outputs": [],
   "source": [
    "print('Final sizing for bias circuit:')\n",
    "print(f'M_0:  L = {BIAS_M_0_L:>4} nm  |  w = {BIAS_M_0[\"w\"]*10**6:>7.3f} um  |  id = {BIAS_M_0[\"id\"]:<6.2e} A  |  gds = {BIAS_M_0[\"gds\"]*10**6:>7.2f} uS  |  gm = {BIAS_M_0[\"gm\"]*10**6:>7.2f} uS  |  gmoverid = {BIAS_M_0[\"gmoverid\"]:>7.2f}  |  vdsat = {BIAS_M_0[\"vdsat\"]*10**3:>7.2f} mV  |  vgs = {BIAS_M_0[\"vgs\"]*10**3:>7.2f} mV   |  cdd = {BIAS_M_0[\"cdd\"]*10**15:>7.2f} fF  |  cgd = {BIAS_M_0[\"cgd\"]*10**15:>7.2f} fF  |  cgs = {BIAS_M_0[\"cgs\"]*10**15:>7.2f} fF  |  csb = {BIAS_M_0[\"csb\"]*10**15:>7.2f} fF')\n",
    "print(f'M_1:  L = {BIAS_M_1_L:>4} nm  |  w = {BIAS_M_1[\"w\"]*10**6:>7.3f} um  |  id = {BIAS_M_1[\"id\"]:<6.2e} A  |  gds = {BIAS_M_1[\"gds\"]*10**6:>7.2f} uS  |  gm = {BIAS_M_1[\"gm\"]*10**6:>7.2f} uS  |  gmoverid = {BIAS_M_1[\"gmoverid\"]:>7.2f}  |  vdsat = {BIAS_M_1[\"vdsat\"]*10**3:>7.2f} mV  |  vgs = {BIAS_M_1[\"vgs\"]*10**3:>7.2f} mV   |  cdd = {BIAS_M_1[\"cdd\"]*10**15:>7.2f} fF  |  cgd = {BIAS_M_1[\"cgd\"]*10**15:>7.2f} fF  |  cgs = {BIAS_M_1[\"cgs\"]*10**15:>7.2f} fF  |  csb = {BIAS_M_1[\"csb\"]*10**15:>7.2f} fF')\n",
    "#print(f'M_2:  L = {BIAS_M_2_L:>4} nm  |  w = {BIAS_M_2[\"w\"]*10**6:>7.3f} um  |  id = {BIAS_M_2[\"id\"]:<6.2e} A  |  gds = {BIAS_M_2[\"gds\"]*10**6:>7.2f} uS  |  gm = {BIAS_M_2[\"gm\"]*10**6:>7.2f} uS  |  gmoverid = {BIAS_M_2[\"gmoverid\"]:>7.2f}  |  vdsat = {BIAS_M_2[\"vdsat\"]*10**3:>7.2f} mV  |  vgs = {BIAS_M_2[\"vgs\"]*10**3:>7.2f} mV   |  cdd = {BIAS_M_2[\"cdd\"]*10**15:>7.2f} fF  |  cgd = {BIAS_M_2[\"cgd\"]*10**15:>7.2f} fF  |  cgs = {BIAS_M_2[\"cgs\"]*10**15:>7.2f} fF  |  csb = {BIAS_M_2[\"csb\"]*10**15:>7.2f} fF')\n",
    "print(f'M_3:  L = {BIAS_M_3_L:>4} nm  |  w = {BIAS_M_3[\"w\"]*10**6:>7.3f} um  |  id = {BIAS_M_3[\"id\"]:<6.2e} A  |  gds = {BIAS_M_3[\"gds\"]*10**6:>7.2f} uS  |  gm = {BIAS_M_3[\"gm\"]*10**6:>7.2f} uS  |  gmoverid = {BIAS_M_3[\"gmoverid\"]:>7.2f}  |  vdsat = {BIAS_M_3[\"vdsat\"]*10**3:>7.2f} mV  |  vgs = {BIAS_M_3[\"vgs\"]*10**3:>7.2f} mV   |  cdd = {BIAS_M_3[\"cdd\"]*10**15:>7.2f} fF  |  cgd = {BIAS_M_3[\"cgd\"]*10**15:>7.2f} fF  |  cgs = {BIAS_M_3[\"cgs\"]*10**15:>7.2f} fF  |  csb = {BIAS_M_3[\"csb\"]*10**15:>7.2f} fF')\n",
    "print(f'M_4:  L = {BIAS_M_4_L:>4} nm  |  w = {BIAS_M_4[\"w\"]*10**6:>7.3f} um  |  id = {BIAS_M_4[\"id\"]:<6.2e} A  |  gds = {BIAS_M_4[\"gds\"]*10**6:>7.2f} uS  |  gm = {BIAS_M_4[\"gm\"]*10**6:>7.2f} uS  |  gmoverid = {BIAS_M_4[\"gmoverid\"]:>7.2f}  |  vdsat = {BIAS_M_4[\"vdsat\"]*10**3:>7.2f} mV  |  vgs = {BIAS_M_4[\"vgs\"]*10**3:>7.2f} mV   |  cdd = {BIAS_M_4[\"cdd\"]*10**15:>7.2f} fF  |  cgd = {BIAS_M_4[\"cgd\"]*10**15:>7.2f} fF  |  cgs = {BIAS_M_4[\"cgs\"]*10**15:>7.2f} fF  |  csb = {BIAS_M_4[\"csb\"]*10**15:>7.2f} fF')\n",
    "print(f'M_5:  L = {BIAS_M_5_L:>4} nm  |  w = {BIAS_M_5[\"w\"]*10**6:>7.3f} um  |  id = {BIAS_M_5[\"id\"]:<6.2e} A  |  gds = {BIAS_M_5[\"gds\"]*10**6:>7.2f} uS  |  gm = {BIAS_M_5[\"gm\"]*10**6:>7.2f} uS  |  gmoverid = {BIAS_M_5[\"gmoverid\"]:>7.2f}  |  vdsat = {BIAS_M_5[\"vdsat\"]*10**3:>7.2f} mV  |  vgs = {BIAS_M_5[\"vgs\"]*10**3:>7.2f} mV   |  cdd = {BIAS_M_5[\"cdd\"]*10**15:>7.2f} fF  |  cgd = {BIAS_M_5[\"cgd\"]*10**15:>7.2f} fF  |  cgs = {BIAS_M_5[\"cgs\"]*10**15:>7.2f} fF  |  csb = {BIAS_M_5[\"csb\"]*10**15:>7.2f} fF')\n",
    "#print(f'M_6:  L = {BIAS_M_6_L:>4} nm  |  w = {BIAS_M_0[\"w\"]*10**6:>7.3f} um  |  id = {BIAS_M_0[\"id\"]:<6.2e} A  |  gds = {BIAS_M_0[\"gds\"]*10**6:>7.2f} uS  |  gm = {BIAS_M_0[\"gm\"]*10**6:>7.2f} uS  |  gmoverid = {BIAS_M_0[\"gmoverid\"]:>7.2f}  |  vdsat = {BIAS_M_0[\"vdsat\"]*10**3:>7.2f} mV  |  vgs = {BIAS_M_0[\"vgs\"]*10**3:>7.2f} mV   |  cdd = {BIAS_M_0[\"cdd\"]*10**15:>7.2f} fF  |  cgd = {BIAS_M_0[\"cgd\"]*10**15:>7.2f} fF  |  cgs = {BIAS_M_0[\"cgs\"]*10**15:>7.2f} fF  |  csb = {BIAS_M_0[\"csb\"]*10**15:>7.2f} fF')"
   ]
  }
 ],
 "metadata": {
  "kernelspec": {
   "display_name": "Python 3",
   "language": "python",
   "name": "python3"
  },
  "language_info": {
   "codemirror_mode": {
    "name": "ipython",
    "version": 3
   },
   "file_extension": ".py",
   "mimetype": "text/x-python",
   "name": "python",
   "nbconvert_exporter": "python",
   "pygments_lexer": "ipython3",
   "version": "3.12.7"
  }
 },
 "nbformat": 4,
 "nbformat_minor": 2
}
